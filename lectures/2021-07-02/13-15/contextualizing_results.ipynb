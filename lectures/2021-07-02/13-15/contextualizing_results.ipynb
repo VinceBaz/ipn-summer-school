{
  "nbformat": 4,
  "nbformat_minor": 5,
  "metadata": {
    "kernelspec": {
      "display_name": "Python 3",
      "language": "python",
      "name": "python3"
    },
    "language_info": {
      "codemirror_mode": {
        "name": "ipython",
        "version": 3
      },
      "file_extension": ".py",
      "mimetype": "text/x-python",
      "name": "python",
      "nbconvert_exporter": "python",
      "pygments_lexer": "ipython3",
      "version": "3.8.8"
    },
    "colab": {
      "name": "contextualizing_results.ipynb",
      "provenance": []
    }
  },
  "cells": [
    {
      "cell_type": "markdown",
      "metadata": {
        "id": "66deefe6"
      },
      "source": [
        "# Contextualizing Results\n",
        "\n",
        "Welcome to the Jupyter notebook that complements the IPN Summer School > Advanced Analytics for Neuroscience > Contextualizing Results (July 2nd, 2021) lecture.\n",
        "\n",
        "This notebook will cover:\n",
        "- fetching microarray gene expression data from the [Allen Human Brain Atlas](https://human.brain-map.org/) using the open-source python toolbox, `abagen`\n",
        "- fetching [Neurosynth](https://neurosynth.org/) functional activation maps\n",
        "- using spatial null models when comparing brain maps\n",
        "\n",
        "## `abagen` processing\n",
        "\n",
        "The complete Read The Docs for `abagen` can be found [here](https://abagen.readthedocs.io/en/stable/index.html). "
      ],
      "id": "66deefe6"
    },
    {
      "cell_type": "code",
      "metadata": {
        "id": "jioPc4rfatbT"
      },
      "source": [
        "# If using Google Colab, install the dependencies\n",
        "!pip install --upgrade numpy scipy matplotlib pandas\n",
        "!pip install git+https://github.com/netneurolab/netneurotools\n",
        "!pip install git+https://github.com/neurosynth/neurosynth\n",
        "!pip install abagen"
      ],
      "id": "jioPc4rfatbT",
      "execution_count": null,
      "outputs": []
    },
    {
      "cell_type": "code",
      "metadata": {
        "colab": {
          "base_uri": "https://localhost:8080/",
          "height": 35
        },
        "id": "d1b9e9b2",
        "outputId": "f1a3a47e-fd48-4707-b4e4-f29c775c57df"
      },
      "source": [
        "import abagen\n",
        "from nilearn.datasets import fetch_atlas_schaefer_2018\n",
        "import pandas as pd\n",
        "import numpy as np\n",
        "from scipy.spatial.distance import squareform, pdist\n",
        "import matplotlib.pyplot as plt\n",
        "from scipy.stats import zscore, pearsonr"
      ],
      "id": "d1b9e9b2",
      "execution_count": 2,
      "outputs": [
        {
          "output_type": "execute_result",
          "data": {
            "application/vnd.google.colaboratory.intrinsic+json": {
              "type": "string"
            },
            "text/plain": [
              "'1.2.5'"
            ]
          },
          "metadata": {
            "tags": []
          },
          "execution_count": 2
        }
      ]
    },
    {
      "cell_type": "code",
      "metadata": {
        "colab": {
          "base_uri": "https://localhost:8080/"
        },
        "id": "EOg3G84ZhOfD",
        "outputId": "d14dddea-59da-4bed-a467-3466f6dfe0b7"
      },
      "source": [
        "# mount google drive to get files on drive\n",
        "# put schaefer200coords.npy in /content/drive/My Drive\n",
        "# if running locally, skip this\n",
        "from google.colab import drive\n",
        "drive.mount('/content/drive')"
      ],
      "id": "EOg3G84ZhOfD",
      "execution_count": 3,
      "outputs": [
        {
          "output_type": "stream",
          "text": [
            "Mounted at /content/drive\n"
          ],
          "name": "stdout"
        }
      ]
    },
    {
      "cell_type": "markdown",
      "metadata": {
        "id": "c22f93c5"
      },
      "source": [
        "All `abagen` needs is a `.nii.gz` atlas in which the gene expression data will be parcellated.\n",
        "Here, we will be parcellating the gene expression data into 200 cortical nodes, according to the Schaefer et al., 2018 parcellation.\n",
        "Note that spatial coverage in the left hemisphere is more complete than in the right hemisphere.\n",
        "For this reason, we will conduct our analyses in the left hemisphere only.\n",
        "(It is definitely possible to use whole-brain gene expression data, and there are several options for what to do with the missing data.\n",
        "You can read more about that in the `abagen` documentation.\n",
        "The preprint will be out soon!)"
      ],
      "id": "c22f93c5"
    },
    {
      "cell_type": "code",
      "metadata": {
        "colab": {
          "base_uri": "https://localhost:8080/"
        },
        "id": "37ba4084",
        "outputId": "40796d43-aac6-4c77-8be6-0a5f2f8cd10e"
      },
      "source": [
        "# get schaefer atlas\n",
        "schaefer = fetch_atlas_schaefer_2018(n_rois=200)\n",
        "# if running locally: coord = np.load('path/to/schaefer200coords.npy')\n",
        "coords = np.load('/content/drive/My Drive/schaefer200coords.npy')\n",
        "nnodes = len(coords)\n",
        "\n",
        "# get node x gene data for all 6 donors\n",
        "# return_donors=False for full concatenated node x gene matrix\n",
        "expression = abagen.get_expression_data(schaefer['maps'], return_donors=True)\n",
        "\n",
        "# get differential stability of each gene\n",
        "expression, ds = abagen.correct.keep_stable_genes(list(expression.values()),\n",
        "                                                  threshold=0.1,\n",
        "                                                  percentile=False,\n",
        "                                                  return_stability=True)\n",
        "# make single node x gene expression matrix\n",
        "expression = pd.concat(expression).groupby('label').mean()"
      ],
      "id": "37ba4084",
      "execution_count": 4,
      "outputs": [
        {
          "output_type": "stream",
          "text": [
            "\n",
            "Dataset created in /root/nilearn_data/schaefer_2018\n",
            "\n",
            "Downloading data from https://raw.githubusercontent.com/ThomasYeoLab/CBIG/v0.14.3-Update_Yeo2011_Schaefer2018_labelname/stable_projects/brain_parcellation/Schaefer2018_LocalGlobal/Parcellations/MNI/Schaefer2018_200Parcels_7Networks_order.txt ...\n",
            "Downloading data from https://raw.githubusercontent.com/ThomasYeoLab/CBIG/v0.14.3-Update_Yeo2011_Schaefer2018_labelname/stable_projects/brain_parcellation/Schaefer2018_LocalGlobal/Parcellations/MNI/Schaefer2018_200Parcels_7Networks_order_FSLMNI152_1mm.nii.gz ...\n"
          ],
          "name": "stdout"
        },
        {
          "output_type": "stream",
          "text": [
            " ...done. (0 seconds, 0 min)\n",
            " ...done. (0 seconds, 0 min)\n"
          ],
          "name": "stderr"
        }
      ]
    },
    {
      "cell_type": "markdown",
      "metadata": {
        "id": "37b28a4b"
      },
      "source": [
        "Gene coexpression is the correlation of gene expression across genes between pairs of brain regions.\n",
        "It is not independent of distance!\n",
        "(More on that later.)"
      ],
      "id": "37b28a4b"
    },
    {
      "cell_type": "code",
      "metadata": {
        "colab": {
          "base_uri": "https://localhost:8080/",
          "height": 299
        },
        "id": "6e110490",
        "outputId": "464d205f-70da-4d64-c475-966410f06a09"
      },
      "source": [
        "# gene coexpression matrix of left hemisphere only\n",
        "gc = np.corrcoef(zscore(expression.iloc[:100]))\n",
        "\n",
        "# distance matrix of left hemisphere only\n",
        "distance = squareform(pdist(coords[:100, :], metric='euclidean'))\n",
        "\n",
        "mask = np.triu(np.ones(int(nnodes/2)), 1) > 0\n",
        "\n",
        "fig, ax = plt.subplots()\n",
        "ax.scatter(distance[mask], gc[mask], s=1)\n",
        "ax.set_xlabel('Euclidean distance')\n",
        "ax.set_ylabel('Gene coexpression')"
      ],
      "id": "6e110490",
      "execution_count": 5,
      "outputs": [
        {
          "output_type": "execute_result",
          "data": {
            "text/plain": [
              "Text(0, 0.5, 'Gene coexpression')"
            ]
          },
          "metadata": {
            "tags": []
          },
          "execution_count": 5
        },
        {
          "output_type": "display_data",
          "data": {
            "image/png": "[encoded data removed]",
            "text/plain": [
              "<Figure size 432x288 with 1 Axes>"
            ]
          },
          "metadata": {
            "tags": [],
            "needs_background": "light"
          }
        }
      ]
    },
    {
      "cell_type": "markdown",
      "metadata": {
        "id": "7eda27a4"
      },
      "source": [
        "## Neurosynth\n",
        "\n",
        "We'll be using code from [https://github.com/neurosynth/neurosynth](https://github.com/neurosynth/neurosynth) to run the meta-analysis on a set of 123 cognitive/behavioural terms from the [Cognitive Atlas](https://www.cognitiveatlas.org/concepts/a/).\n",
        "We'll be pulling the most up-to-date version of `neurosynth` (instead of the version on `pip`) so that we don't need to downgrade our `pandas`.\n",
        "This will require a `pip install git+https://github.com/neurosynth/neurosynth`.\n",
        "\n",
        "Note that much of the code comes from [here](https://github.com/netneurolab/markello_spatialnulls/blob/master/scripts/empirical/fetch_neurosynth_maps.py).\n",
        "\n",
        "I've uploaded this bit as a script [here](), so you don't have to code along.\n",
        "You can just run the script and get your data and you should be good to go."
      ],
      "id": "7eda27a4"
    },
    {
      "cell_type": "code",
      "metadata": {
        "id": "c0e9a8c3"
      },
      "source": [
        "import contextlib\n",
        "import json\n",
        "import os\n",
        "from pathlib import Path\n",
        "\n",
        "import requests\n",
        "from nilearn.input_data import NiftiLabelsMasker\n",
        "from nilearn._utils import check_niimg\n",
        "\n",
        "import neurosynth as ns"
      ],
      "id": "c0e9a8c3",
      "execution_count": 10,
      "outputs": []
    },
    {
      "cell_type": "markdown",
      "metadata": {
        "id": "fd6e695b"
      },
      "source": [
        "Some set up:"
      ],
      "id": "fd6e695b"
    },
    {
      "cell_type": "code",
      "metadata": {
        "id": "0cb6e44a"
      },
      "source": [
        "# this is where the raw and parcellated data will be stored\n",
        "NSDIR = Path('./data/raw/neurosynth').resolve()\n",
        "PARDIR = Path('./data/derivatives/neurosynth').resolve()\n",
        "\n",
        "# these are the images from the neurosynth analyses we'll save\n",
        "# can add 'uniformity-test_z' plus more, if desired\n",
        "IMAGES = ['association-test_z']"
      ],
      "id": "0cb6e44a",
      "execution_count": 11,
      "outputs": []
    },
    {
      "cell_type": "markdown",
      "metadata": {
        "id": "cf45a923"
      },
      "source": [
        "Let's make some functions:\n",
        "\n",
        "First, we need something to grab the NeuroSynth database and features."
      ],
      "id": "cf45a923"
    },
    {
      "cell_type": "code",
      "metadata": {
        "id": "1152a11f"
      },
      "source": [
        "def fetch_ns_data(directory):\n",
        "    \"\"\" Fetches NeuroSynth database + features to `directory`\n",
        "    Paramerters\n",
        "    -----------\n",
        "    directory : str or os.PathLike\n",
        "        Path to directory where data should be saved\n",
        "    Returns\n",
        "    -------\n",
        "    database, features : PathLike\n",
        "        Paths to downloaded NS data\n",
        "    \"\"\"\n",
        "\n",
        "    directory = Path(directory)\n",
        "\n",
        "    # if not already downloaded, download the NS data and unpack it\n",
        "    database, features = directory / 'database.txt', directory / 'features.txt'\n",
        "    if not database.exists() or not features.exists():\n",
        "        with open(os.devnull, 'w') as f, contextlib.redirect_stdout(f):\n",
        "            ns.dataset.download(path=directory, unpack=True)\n",
        "        try:  # remove tarball if it wasn't removed for some reason\n",
        "            (directory / 'current_data.tar.gz').unlink()\n",
        "        except FileNotFoundError:\n",
        "            pass\n",
        "\n",
        "    return database, features"
      ],
      "id": "1152a11f",
      "execution_count": 12,
      "outputs": []
    },
    {
      "cell_type": "markdown",
      "metadata": {
        "id": "0757465c"
      },
      "source": [
        "Since we're only using terms from the Cognitive Atlas, let's make something to grab those terms.\n",
        "I feel like I should emphasize again that Ross wrote all this code and I'm just stealing his stuff."
      ],
      "id": "0757465c"
    },
    {
      "cell_type": "code",
      "metadata": {
        "id": "967fa3f7"
      },
      "source": [
        "def get_cogatlas_concepts(url=None):\n",
        "    \"\"\" Fetches list of concepts from the Cognitive Atlas\n",
        "    Parameters\n",
        "    ----------\n",
        "    url : str\n",
        "        URL to Cognitive Atlas API\n",
        "    Returns\n",
        "    -------\n",
        "    concepts : set\n",
        "        Unordered set of terms\n",
        "    \"\"\"\n",
        "\n",
        "    if url is None:\n",
        "        url = 'https://cognitiveatlas.org/api/v-alpha/concept'\n",
        "\n",
        "    req = requests.get(url)\n",
        "    req.raise_for_status()\n",
        "    concepts = set([f.get('name') for f in json.loads(req.content)])\n",
        "\n",
        "    return concepts"
      ],
      "id": "967fa3f7",
      "execution_count": 13,
      "outputs": []
    },
    {
      "cell_type": "markdown",
      "metadata": {
        "id": "db429520"
      },
      "source": [
        "Now a function that does the bulk of the work.\n",
        "It uses the `MetaAnalysis` function from `neurosynth` to make association maps for the features we defined above (Cognitive Atlas terms)."
      ],
      "id": "db429520"
    },
    {
      "cell_type": "code",
      "metadata": {
        "id": "40460c12"
      },
      "source": [
        "def run_meta_analyses(database, features, use_features=None, outdir=None):\n",
        "    \"\"\"\n",
        "    Runs NS-style meta-analysis based on `database` and `features`\n",
        "    Parameters\n",
        "    ----------\n",
        "    database, features : str or os.PathLike\n",
        "        Path to NS-style database.txt and features.txt files\n",
        "    use_features : list, optional\n",
        "        List of features on which to run NS meta-analyses; if not supplied all\n",
        "        terms in `features` will be used\n",
        "    outdir : str or os.PathLike\n",
        "        Path to output directory where derived files should be saved\n",
        "    Returns\n",
        "    -------\n",
        "    generated : list of str\n",
        "        List of filepaths to generated term meta-analysis directories\n",
        "    \"\"\"\n",
        "\n",
        "    # check outdir\n",
        "    if outdir is None:\n",
        "        outdir = NSDIR\n",
        "    outdir = Path(outdir)\n",
        "\n",
        "    # make database and load feature names; annoyingly slow\n",
        "    dataset = ns.Dataset(str(database))\n",
        "    dataset.add_features(str(features))\n",
        "    features = set(dataset.get_feature_names())\n",
        "\n",
        "    # if we only want a subset of the features take the set intersection\n",
        "    if use_features is not None:\n",
        "        features = set(features) & set(use_features)\n",
        "    pad = max([len(f) for f in features])\n",
        "\n",
        "    generated = []\n",
        "    for word in sorted(features):\n",
        "        msg = f'Running meta-analysis for term: {word:<{pad}}'\n",
        "        print(msg, end='\\r', flush=True)\n",
        "\n",
        "        # run meta-analysis + save specified outputs (only if they don't exist)\n",
        "        path = outdir / word.replace(' ', '_')\n",
        "        path.mkdir(exist_ok=True)\n",
        "        if not all((path / f'{f}.nii.gz').exists() for f in IMAGES):\n",
        "            ma = ns.MetaAnalysis(dataset, dataset.get_studies(features=word))\n",
        "            ma.save_results(path, image_list=IMAGES)\n",
        "\n",
        "        # store MA path\n",
        "        generated.append(path)\n",
        "\n",
        "    print(' ' * len(msg) + '\\b' * len(msg), end='', flush=True)\n",
        "\n",
        "    return generated"
      ],
      "id": "40460c12",
      "execution_count": 14,
      "outputs": []
    },
    {
      "cell_type": "markdown",
      "metadata": {
        "id": "3278ecd9"
      },
      "source": [
        "And finally, a function to parcellate our data into the 200-node Schaefer parcellation we've been using so far."
      ],
      "id": "3278ecd9"
    },
    {
      "cell_type": "code",
      "metadata": {
        "id": "d5ac4af3"
      },
      "source": [
        "def parcellate_meta(outputs, annots, fname, regions):\n",
        "    # empty dataframe to hold our parcellated data\n",
        "    data = pd.DataFrame(index=regions)\n",
        "    mask = NiftiLabelsMasker(annots, resampling_target='data')\n",
        "\n",
        "    for outdir in outputs:\n",
        "        cdata = []\n",
        "        mgh = outdir / 'association-test_z.nii.gz'\n",
        "\n",
        "        cdata.append(mask.fit_transform(\n",
        "            check_niimg(mgh.__str__(), atleast_4d=True)).squeeze())\n",
        "\n",
        "        # aaaand store it in the dataframe\n",
        "        data = data.assign(**{outdir.name: np.hstack(cdata)})\n",
        "\n",
        "    # now we save the dataframe! wooo data!\n",
        "    data.to_csv(fname, sep=',')\n",
        "    return fname"
      ],
      "id": "d5ac4af3",
      "execution_count": 15,
      "outputs": []
    },
    {
      "cell_type": "markdown",
      "metadata": {
        "id": "d869526b"
      },
      "source": [
        "Now we're ready to actually run everything and get our data (and we will ignore the `RuntimeWarning`.)"
      ],
      "id": "d869526b"
    },
    {
      "cell_type": "code",
      "metadata": {
        "colab": {
          "base_uri": "https://localhost:8080/"
        },
        "id": "cf3624d0",
        "outputId": "90fa8dce-13b8-402b-e740-35e070f7c08e"
      },
      "source": [
        "NSDIR.mkdir(parents=True, exist_ok=True)\n",
        "PARDIR.mkdir(parents=True, exist_ok=True)\n",
        "\n",
        "# get concepts from CogAtlas and run relevant NS meta-analyses,\n",
        "database, features = fetch_ns_data(NSDIR)\n",
        "generated = run_meta_analyses(database, features, get_cogatlas_concepts(),\n",
        "                              outdir=NSDIR)\n",
        "\n",
        "# get parcellations that we'll use to parcellate data\n",
        "schaefer = fetch_atlas_schaefer_2018(n_rois=200, resolution_mm=2)\n",
        "labels = []\n",
        "for i in range(len(schaefer['labels'])):\n",
        "    labels.append(schaefer['labels'][i].decode(\"utf-8\"))\n",
        "\n",
        "# parcellate data and save to directory\n",
        "parcellate_meta(generated, schaefer['maps'],\n",
        "                PARDIR / 'atl-schaefer2018_res-200_neurosynth.csv',\n",
        "                regions=labels)"
      ],
      "id": "cf3624d0",
      "execution_count": 16,
      "outputs": [
        {
          "output_type": "stream",
          "text": [
            "Running meta-analysis for term: action                 \r"
          ],
          "name": "stdout"
        },
        {
          "output_type": "stream",
          "text": [
            "/usr/local/lib/python3.7/dist-packages/neurosynth/analysis/meta.py:136: RuntimeWarning: invalid value encountered in true_divide\n",
            "  pFgA = pAgF * pF / pA\n",
            "/usr/local/lib/python3.7/dist-packages/neurosynth/analysis/meta.py:141: RuntimeWarning: invalid value encountered in true_divide\n",
            "  pFgA_prior = pAgF * prior / pA_prior\n"
          ],
          "name": "stderr"
        },
        {
          "output_type": "stream",
          "text": [
            "                                                       \b\b\b\b\b\b\b\b\b\b\b\b\b\b\b\b\b\b\b\b\b\b\b\b\b\b\b\b\b\b\b\b\b\b\b\b\b\b\b\b\b\b\b\b\b\b\b\b\b\b\b\b\b\b\bDownloading data from https://raw.githubusercontent.com/ThomasYeoLab/CBIG/v0.14.3-Update_Yeo2011_Schaefer2018_labelname/stable_projects/brain_parcellation/Schaefer2018_LocalGlobal/Parcellations/MNI/Schaefer2018_200Parcels_7Networks_order_FSLMNI152_2mm.nii.gz ...\n"
          ],
          "name": "stdout"
        },
        {
          "output_type": "stream",
          "text": [
            " ...done. (0 seconds, 0 min)\n"
          ],
          "name": "stderr"
        },
        {
          "output_type": "execute_result",
          "data": {
            "text/plain": [
              "PosixPath('/content/data/derivatives/neurosynth/atl-schaefer2018_res-200_neurosynth.csv')"
            ]
          },
          "metadata": {
            "tags": []
          },
          "execution_count": 16
        }
      ]
    },
    {
      "cell_type": "markdown",
      "metadata": {
        "id": "31f6aed7"
      },
      "source": [
        "## Spatial nulls\n",
        "\n",
        "The brain is spatially embedded, which means brain regions are not independent of one another.\n",
        "Many statistical tests assume independence between observations, but the brain violates this assumption.\n",
        "For this reason, we need to use statistical tests and null models that account for this spatial embedding.\n",
        "One method is the [spin test](https://www.sciencedirect.com/science/article/pii/S1053811918304968), which projects the brain to a sphere, randomly rotates the sphere $n$ times, and then projects the sphere back onto the brain.\n",
        "This results in a jumbled brain map with preserved spatial embedding.\n",
        "We will be applying one variation of the spin test to Pearson's correlations between the gene expression and functional association maps we worked with above."
      ],
      "id": "31f6aed7"
    },
    {
      "cell_type": "code",
      "metadata": {
        "id": "68863f94"
      },
      "source": [
        "from netneurotools import stats\n",
        "import random"
      ],
      "id": "68863f94",
      "execution_count": 6,
      "outputs": []
    },
    {
      "cell_type": "markdown",
      "metadata": {
        "id": "d990f568"
      },
      "source": [
        "The `netneurotools` [repo](https://github.com/netneurolab/netneurotools) includes many handy tools, including code to generate spatial-autocorrelation preserving permutations of brain regions.\n",
        "The function `gen_spinsamples` can generate many different types of spin samples. \n",
        "You can read more about the different types of spatial nulls at [Markello & Misic 2021](https://www.sciencedirect.com/science/article/pii/S1053811921003293)."
      ],
      "id": "d990f568"
    },
    {
      "cell_type": "code",
      "metadata": {
        "id": "9ec5cefa"
      },
      "source": [
        "# hemisphere labels\n",
        "hemi = np.zeros((len(coords),))\n",
        "hemi[100:] = 1\n",
        "\n",
        "# get 1000 spin samples\n",
        "spins = stats.gen_spinsamples(coords, hemi)"
      ],
      "id": "9ec5cefa",
      "execution_count": 7,
      "outputs": []
    },
    {
      "cell_type": "markdown",
      "metadata": {
        "id": "7f6f5da3"
      },
      "source": [
        "Here's a function for computing Pearson's $r$ correlation coefficients and spin-derived $p$-values."
      ],
      "id": "7f6f5da3"
    },
    {
      "cell_type": "code",
      "metadata": {
        "id": "72e25dd8"
      },
      "source": [
        "# write spin test function\n",
        "def corr_spin(x, y, spins, nspins):\n",
        "    rho, _ = pearsonr(x, y)\n",
        "    null = np.zeros((nspins,))\n",
        "    for i in range(nspins):\n",
        "        null[i], _ = pearsonr(x, y[spins[:, i]])\n",
        "\n",
        "    pval = (1 + sum(abs((null - np.mean(null))) >\n",
        "                    abs((rho - np.mean(null))))) / (nspins + 1)\n",
        "    return rho, pval"
      ],
      "id": "72e25dd8",
      "execution_count": 8,
      "outputs": []
    },
    {
      "cell_type": "markdown",
      "metadata": {
        "id": "2df8d145"
      },
      "source": [
        "Now: which genes are correlated with the functional association of fear?"
      ],
      "id": "2df8d145"
    },
    {
      "cell_type": "code",
      "metadata": {
        "colab": {
          "base_uri": "https://localhost:8080/"
        },
        "id": "fc16c85a",
        "outputId": "13e1287b-2bfb-47ae-8f7d-166f606fce68"
      },
      "source": [
        "# load parcellated neurosynth maps\n",
        "# PARDIR = Path('./data/derivatives/neurosynth').resolve()\n",
        "# neurosynth = pd.read_csv(PARDIR / 'atl-schaefer2018_res-200_neurosynth.csv')\n",
        "# or,\n",
        "neurosynth = pd.read_csv('/content/drive/My Drive/atl-schaefer2018_res-200_neurosynth.csv')\n",
        "\n",
        "# grab the fear map\n",
        "fear = neurosynth['fear']\n",
        "\n",
        "# correlate each gene to fear - left hemisphere only!\n",
        "rho = np.zeros((expression.shape[1],))\n",
        "pval = np.zeros((expression.shape[1],))\n",
        "for i in range(expression.shape[1]):\n",
        "    rho[i], pval[i] = pearsonr(fear.array[:100], expression.iloc[:100,i].array)\n",
        "# get the most correlated gene\n",
        "max_idx = np.argmax(rho)\n",
        "max_gene = expression.columns[max_idx]\n",
        "print('corr(fear, ' + max_gene + ') is ' \n",
        "      + str(rho[max_idx]) +'. The p-value without accounting for spatial autocorrelation is '\n",
        "      + str(pval[max_idx]) +'.')"
      ],
      "id": "fc16c85a",
      "execution_count": 10,
      "outputs": [
        {
          "output_type": "stream",
          "text": [
            "corr(fear, GNG10) is 0.6815884689574915. The p-value without accounting for spatial autocorrelation is 5.936657416821497e-15.\n"
          ],
          "name": "stdout"
        }
      ]
    },
    {
      "cell_type": "markdown",
      "metadata": {
        "id": "849c81c0"
      },
      "source": [
        "Since running spin-nulls takes time, we'll just do it for two genes."
      ],
      "id": "849c81c0"
    },
    {
      "cell_type": "code",
      "metadata": {
        "colab": {
          "base_uri": "https://localhost:8080/"
        },
        "id": "bbd32f40",
        "outputId": "85e7420e-5c98-451e-b73d-04d41547dee3"
      },
      "source": [
        "# get p_spin of correlation between fear and GNG10 (maximally correlated gene)\n",
        "_, pspin_gng = corr_spin(fear.array[:100], expression[max_gene].array[:100], spins[:100,:], 1000)\n",
        "# for comparison, grab a random gene\n",
        "rand = random.randint(0, expression.shape[1]-1)\n",
        "_, pspin_rand = corr_spin(fear.array[:100], expression.iloc[:100, rand].array, spins[:100, :], 1000)\n",
        "\n",
        "print('The spin-test p-value of the correlation between fear association and '\n",
        "      + expression.columns[max_idx] + ' is ' + str(pspin_gng) +'.')\n",
        "print('corr(fear, ' + expression.columns[rand] + ') is '\n",
        "      + str(rho[rand]) + '. The p-value without accounting for spatial autocorrelation is '\n",
        "      + str(pval[rand]) + '. The p-value when accounting for spatial autocorrelation is '\n",
        "      + str(pspin_rand) + '.')"
      ],
      "id": "bbd32f40",
      "execution_count": 11,
      "outputs": [
        {
          "output_type": "stream",
          "text": [
            "The spin-test p-value of the correlation between fear association and GNG10 is 0.05194805194805195.\n",
            "corr(fear, FARSA) is -0.2829674328977462. The p-value without accounting for spatial autocorrelation is 0.004335703872948736. The p-value when accounting for spatial autocorrelation is 0.5004995004995005.\n"
          ],
          "name": "stdout"
        }
      ]
    },
    {
      "cell_type": "markdown",
      "metadata": {
        "id": "feef10ca"
      },
      "source": [
        "Notice that although the fear association map is correlated to the expression of GNG10 with $r = 0.68$, the correlation is **not** necessarily significant under the spin-test.\n",
        "Note that generating spin samples (`stats.gen_spinsamples()`) is a random process so your resulting $p$-value may be slightly below $0.05$.\n",
        "But the point remains!\n",
        "\n",
        "And now we plot!\n",
        "`pspin` refers to the spin-derived p-value.\n",
        "`p` refers to the p-value from `pearsonr` which you will notice is much lower."
      ],
      "id": "feef10ca"
    },
    {
      "cell_type": "code",
      "metadata": {
        "colab": {
          "base_uri": "https://localhost:8080/",
          "height": 590
        },
        "id": "af77dad9",
        "outputId": "9378c900-50cf-43f6-c94e-fbfc8c62ea22"
      },
      "source": [
        "fig, ax1 = plt.subplots()\n",
        "ax1.scatter(fear.array[:100], expression[max_gene].array[:100])\n",
        "ax1.set_xlabel('fear association')\n",
        "ax1.set_ylabel(max_gene + ' expression')\n",
        "ax1.set_title('rho = ' + str(rho[max_idx]) + ', pspin = ' + str(pspin_gng) + ', p = ' + str(pval[max_idx]))\n",
        "\n",
        "fig, ax2 = plt.subplots()\n",
        "ax2.scatter(fear.array[:100], expression.iloc[:100, rand].array)\n",
        "ax2.set_xlabel('fear association')\n",
        "ax2.set_ylabel(expression.columns[rand] + ' expression')\n",
        "ax2.set_title('rho = ' + str(rho[rand]) + ', pspin = ' + str(pspin_rand) + ', p = ' + str(pval[rand]))\n"
      ],
      "id": "af77dad9",
      "execution_count": 12,
      "outputs": [
        {
          "output_type": "execute_result",
          "data": {
            "text/plain": [
              "Text(0.5, 1.0, 'rho = -0.2829674328977462, pspin = 0.5004995004995005, p = 0.004335703872948736')"
            ]
          },
          "metadata": {
            "tags": []
          },
          "execution_count": 12
        },
        {
          "output_type": "display_data",
          "data": {
            "image/png": "[encoded data removed]",
            "text/plain": [
              "<Figure size 432x288 with 1 Axes>"
            ]
          },
          "metadata": {
            "tags": [],
            "needs_background": "light"
          }
        },
        {
          "output_type": "display_data",
          "data": {
            "image/png": "[encoded data removed]",
            "text/plain": [
              "<Figure size 432x288 with 1 Axes>"
            ]
          },
          "metadata": {
            "tags": [],
            "needs_background": "light"
          }
        }
      ]
    }
  ]
}